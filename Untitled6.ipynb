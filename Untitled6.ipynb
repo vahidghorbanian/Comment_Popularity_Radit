{
  "nbformat": 4,
  "nbformat_minor": 0,
  "metadata": {
    "colab": {
      "name": "Untitled6.ipynb",
      "version": "0.3.2",
      "provenance": [],
      "include_colab_link": true
    },
    "kernelspec": {
      "name": "python3",
      "display_name": "Python 3"
    },
    "accelerator": "GPU"
  },
  "cells": [
    {
      "cell_type": "markdown",
      "metadata": {
        "id": "view-in-github",
        "colab_type": "text"
      },
      "source": [
        "<a href=\"https://colab.research.google.com/github/vahidghorbanian/Comment_Popularity_Radit/blob/master/Untitled6.ipynb\" target=\"_parent\"><img src=\"https://colab.research.google.com/assets/colab-badge.svg\" alt=\"Open In Colab\"/></a>"
      ]
    },
    {
      "cell_type": "code",
      "metadata": {
        "id": "Yw6hZy_XFOd2",
        "colab_type": "code",
        "colab": {}
      },
      "source": [
        "!pip install -U -q PyDrive\n",
        "import os\n",
        "from pydrive.auth import GoogleAuth\n",
        "from pydrive.drive import GoogleDrive\n",
        "from google.colab import auth\n",
        "from oauth2client.client import GoogleCredentials\n",
        "\n",
        "# 1. Authenticate and create the PyDrive client.\n",
        "auth.authenticate_user()\n",
        "gauth = GoogleAuth()\n",
        "gauth.credentials = GoogleCredentials.get_application_default()\n",
        "drive = GoogleDrive(gauth)\n"
      ],
      "execution_count": 0,
      "outputs": []
    },
    {
      "cell_type": "code",
      "metadata": {
        "id": "LznOG7BkJCd9",
        "colab_type": "code",
        "outputId": "e6318f9c-f99f-43b0-cc8d-b6346a4c4640",
        "colab": {
          "base_uri": "https://localhost:8080/",
          "height": 34
        }
      },
      "source": [
        "from google.colab import drive\n",
        "drive.mount('/content/drive')"
      ],
      "execution_count": 0,
      "outputs": [
        {
          "output_type": "stream",
          "text": [
            "Drive already mounted at /content/drive; to attempt to forcibly remount, call drive.mount(\"/content/drive\", force_remount=True).\n"
          ],
          "name": "stdout"
        }
      ]
    },
    {
      "cell_type": "code",
      "metadata": {
        "id": "s1dihCpOHMbb",
        "colab_type": "code",
        "outputId": "23b7da35-2335-4228-bd7d-d9ca1aa6dfe7",
        "colab": {
          "base_uri": "https://localhost:8080/",
          "height": 119
        }
      },
      "source": [
        "%cd drive\n",
        "%cd My\\ Drive\n",
        "%cd comment_popularity_Raddit"
      ],
      "execution_count": 0,
      "outputs": [
        {
          "output_type": "stream",
          "text": [
            "[Errno 2] No such file or directory: 'drive'\n",
            "/content/drive/My Drive/comment_popularity_Raddit\n",
            "[Errno 2] No such file or directory: 'My Drive'\n",
            "/content/drive/My Drive/comment_popularity_Raddit\n",
            "[Errno 2] No such file or directory: 'comment_popularity_Raddit'\n",
            "/content/drive/My Drive/comment_popularity_Raddit\n"
          ],
          "name": "stdout"
        }
      ]
    },
    {
      "cell_type": "code",
      "metadata": {
        "id": "f9tdXJeoJaxu",
        "colab_type": "code",
        "outputId": "1cf6bce9-2e29-4002-dd6e-d526a4595696",
        "colab": {
          "base_uri": "https://localhost:8080/",
          "height": 357
        }
      },
      "source": [
        "!python main.py"
      ],
      "execution_count": 0,
      "outputs": [
        {
          "output_type": "stream",
          "text": [
            "total number of samples:  12000\n",
            "main features name: ['text', 'children', 'controversiality', 'is_root']\n",
            "target name: popularity_score\n",
            "length of training set:  10000\n",
            "length of validation set:  1000\n",
            "length of test set:  1000\n",
            "\n",
            "looking for top 60 high rank text features in training set ...\n",
            "\n",
            "total number of words in training set:  232449\n",
            "total number of unique words in training set:  32529 \n",
            "\n",
            "Calculating text features counts in training set ...\n",
            "Calculating text features counts in validation set ...\n",
            "Calculating text features counts in test set ...\n",
            "Adding features to training set ...\n",
            "Adding features to validation set ...\n",
            "Adding features to test set ...\n",
            "\n",
            "Run time:  7.086467742919922 s\n"
          ],
          "name": "stdout"
        }
      ]
    },
    {
      "cell_type": "code",
      "metadata": {
        "id": "E7OX3i_qLssV",
        "colab_type": "code",
        "outputId": "23fd111e-d573-4580-a188-398b425cf32e",
        "colab": {
          "base_uri": "https://localhost:8080/",
          "height": 34
        }
      },
      "source": [
        "!ls"
      ],
      "execution_count": 0,
      "outputs": [
        {
          "output_type": "stream",
          "text": [
            "count.csv  main.py  proj1_data.json  __pycache__  utils.py  words.txt\n"
          ],
          "name": "stdout"
        }
      ]
    }
  ]
}